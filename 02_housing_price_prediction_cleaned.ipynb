{
  "nbformat": 4,
  "nbformat_minor": 0,
  "metadata": {
    "colab": {
      "name": "02_housing_price_prediction_cleaned.ipynb",
      "provenance": [],
      "authorship_tag": "ABX9TyOVMtLNgUCk8K2Vylbg0kxx",
      "include_colab_link": true
    },
    "kernelspec": {
      "name": "python3",
      "display_name": "Python 3"
    },
    "language_info": {
      "name": "python"
    }
  },
  "cells": [
    {
      "cell_type": "markdown",
      "metadata": {
        "id": "view-in-github",
        "colab_type": "text"
      },
      "source": [
        "<a href=\"https://colab.research.google.com/github/MingzheHu-Duke/Note_to_product_HousePricePrediction/blob/main/02_housing_price_prediction_cleaned.ipynb\" target=\"_parent\"><img src=\"https://colab.research.google.com/assets/colab-badge.svg\" alt=\"Open In Colab\"/></a>"
      ]
    },
    {
      "cell_type": "code",
      "metadata": {
        "id": "mflfvjrwivoL"
      },
      "source": [
        " import pandas as pd\n",
        " import numpy as np\n",
        " from sklearn.model_selection import train_test_split\n",
        " from sklearn.preprocessing import MinMaxScaler\n",
        " from sklearn.linear_model import Lasso\n",
        " from sklearn import metrics"
      ],
      "execution_count": 1,
      "outputs": []
    },
    {
      "cell_type": "markdown",
      "metadata": {
        "id": "FW3Y7J4_o-3_"
      },
      "source": [
        "**Config Variables**"
      ]
    },
    {
      "cell_type": "code",
      "metadata": {
        "id": "yRly_Tm9pDl1"
      },
      "source": [
        "DATAPTH = \"data/HousingPrediction/\"\n",
        "TRAIN_FILE = \"train.csv\"\n",
        "TEST_FILE = \"test.csv\"\n",
        "\n",
        "TARGET = 'SalePrice'\n",
        "## Features to keep\n",
        "KEEP = ['MSSubClass', 'MSZoning', 'Neighborhood',\n",
        "            'OverallQual', 'OverallCond', 'YearRemodAdd',\n",
        "            'RoofStyle', 'MasVnrType', 'BsmtQual', 'BsmtExposure',\n",
        "            'HeatingQC', 'CentralAir', '1stFlrSF', 'GrLivArea',\n",
        "            'BsmtFullBath', 'KitchenQual', 'Fireplaces', 'FireplaceQu',\n",
        "            'GarageType', 'GarageFinish', 'GarageCars', 'PavedDrive',\n",
        "            'LotFrontage','YrSold'] #Final feature to keep in data\n",
        "\n",
        "NUMERICAL_FEATURES = ['LotFrontage'] #Numerical\n",
        "CATEGORICAL_FEATURES = ['MasVnrType', 'BsmtQual', 'BsmtExposure','FireplaceQu', \n",
        "                'GarageCars','GarageType', 'GarageFinish','MSZoning','BsmtFullBath',\n",
        "                'KitchenQual'] #Categorical\n",
        "\n",
        "FEATURES_TO_ENCODE = ['MSZoning', 'Neighborhood', 'RoofStyle', 'MasVnrType','BsmtQual', \n",
        "                      'BsmtExposure', 'HeatingQC', 'CentralAir','KitchenQual', 'FireplaceQu', \n",
        "                      'GarageType', 'GarageFinish','PavedDrive'] #Features to Encode\n",
        "\n",
        "TEMPORAL_FEATURES = ['YearRemodAdd']\n",
        "TEMPORAL_COMPARISON = 'YrSold'\n",
        "\n",
        "LOG_FEATURES = ['LotFrontage', '1stFlrSF', 'GrLivArea'] #Features for Log Transform\n",
        "\n",
        "DROP_FEATURES = ['YrSold'] #Features to Drop"
      ],
      "execution_count": null,
      "outputs": []
    },
    {
      "cell_type": "markdown",
      "metadata": {
        "id": "5Qiq8fz2pfU_"
      },
      "source": [
        "**Read Data**"
      ]
    },
    {
      "cell_type": "code",
      "metadata": {
        "id": "Igk8_AMopiU1"
      },
      "source": [
        "train = pd.read_csv(DATAPATH+TRAIN_FILE)\n",
        "test = pd.read_csv(DATAPATH+TEST_FILE)\n",
        "\n",
        "\n",
        "#separating SalePrice in Y\n",
        "y = train[TARGET]\n",
        "train.drop([TARGET], axis=1, inplace=True)\n",
        "\n",
        "#Combine train and test data\n",
        "data = pd.concat([train,test], axis=0)\n",
        "\n",
        "data = data[KEEP].copy()"
      ],
      "execution_count": null,
      "outputs": []
    },
    {
      "cell_type": "markdown",
      "metadata": {
        "id": "KWZUcJ9cpyQ3"
      },
      "source": [
        "**Numerical Imputer**"
      ]
    },
    {
      "cell_type": "code",
      "metadata": {
        "id": "QLLvns5Fp6f5"
      },
      "source": [
        "for var in NUMERICAL_FEATURES:\n",
        "    data[var].fillna(data[var].mode()[0], inplace=True)"
      ],
      "execution_count": null,
      "outputs": []
    },
    {
      "cell_type": "markdown",
      "metadata": {
        "id": "sdI9mrR7p8Gl"
      },
      "source": [
        "**Categorical Imputer**"
      ]
    },
    {
      "cell_type": "code",
      "metadata": {
        "id": "U-qNPak3p_hf"
      },
      "source": [
        " for var in CATEGORICAL_FEATURES:\n",
        "    data[var].fillna(data[var].mode()[0], inplace=True)"
      ],
      "execution_count": null,
      "outputs": []
    },
    {
      "cell_type": "markdown",
      "metadata": {
        "id": "25WOJiKkqBlI"
      },
      "source": [
        "**Rare Label Categorical Encoder** "
      ]
    },
    {
      "cell_type": "code",
      "metadata": {
        "id": "p79zmD1OqGle"
      },
      "source": [
        "encoder_dict_ = {}\n",
        "tol=0.05\n",
        "\n",
        "for var in FEATURES_TO_ENCODE:\n",
        "    # the encoder will learn the most frequent categories\n",
        "    t = pd.Series(data[var].value_counts() / np.float(len(data)))\n",
        "    # frequent labels:\n",
        "    encoder_dict_[var] = list(t[t >= tol].index)\n",
        "    \n",
        "for var in FEATURES_TO_ENCODE:\n",
        "    data[var] = np.where(data[var].isin(\n",
        "                encoder_dict_[var]), data[var], 'Rare')"
      ],
      "execution_count": null,
      "outputs": []
    },
    {
      "cell_type": "markdown",
      "metadata": {
        "id": "VxJUdC8qqN7L"
      },
      "source": [
        "**Categorical Encoder**"
      ]
    },
    {
      "cell_type": "code",
      "metadata": {
        "id": "K7-irdsEqQmk"
      },
      "source": [
        "encoder_dict_ ={}\n",
        "for var in FEATURES_TO_ENCODE:\n",
        "    t = data[var].value_counts().sort_values(ascending=True).index  #Sorting on freq, should be done on target, just saving some time here\n",
        "    encoder_dict_[var] = {k:i for i,k in enumerate(t,0)}"
      ],
      "execution_count": null,
      "outputs": []
    },
    {
      "cell_type": "code",
      "metadata": {
        "id": "hODQgZKFqSuD"
      },
      "source": [
        "## Mapping using the encoder dictionary\n",
        "for var in FEATURES_TO_ENCODE:\n",
        "    data[var] = data[var].map(encoder_dict_[var])"
      ],
      "execution_count": null,
      "outputs": []
    },
    {
      "cell_type": "markdown",
      "metadata": {
        "id": "nsUJbkqIqXO2"
      },
      "source": [
        "**Temporal Variables**"
      ]
    },
    {
      "cell_type": "code",
      "metadata": {
        "id": "JC9QnpLbqbA4"
      },
      "source": [
        "for var in TEMPORAL_FEATURES:\n",
        "    data[var] = data[var]-data[TEMPORAL_COMPARISON]"
      ],
      "execution_count": null,
      "outputs": []
    },
    {
      "cell_type": "markdown",
      "metadata": {
        "id": "tBoQh7smqers"
      },
      "source": [
        "**Log Transformation of Numerical Features**\n"
      ]
    },
    {
      "cell_type": "code",
      "metadata": {
        "id": "ClxjLZRAqiJz"
      },
      "source": [
        "for var in LOG_FEATURES:\n",
        "    data[var] = np.log(data[var])"
      ],
      "execution_count": null,
      "outputs": []
    },
    {
      "cell_type": "markdown",
      "metadata": {
        "id": "X2BASMCrqkZk"
      },
      "source": [
        "**Drop Features**"
      ]
    },
    {
      "cell_type": "code",
      "metadata": {
        "id": "SQUt8eggqoPQ"
      },
      "source": [
        "data.drop(DROP_FEATURES, axis=1, inplace=True)"
      ],
      "execution_count": null,
      "outputs": []
    }
  ]
}