{
  "nbformat": 4,
  "nbformat_minor": 0,
  "metadata": {
    "colab": {
      "name": "07_CleanUp.ipynb",
      "provenance": [],
      "authorship_tag": "ABX9TyMvV3ebeUCZJjJpTsW7ClgX",
      "include_colab_link": true
    },
    "kernelspec": {
      "name": "python3",
      "display_name": "Python 3"
    },
    "language_info": {
      "name": "python"
    }
  },
  "cells": [
    {
      "cell_type": "markdown",
      "metadata": {
        "id": "view-in-github",
        "colab_type": "text"
      },
      "source": [
        "<a href=\"https://colab.research.google.com/github/MingzheHu-Duke/Note_to_product_HousePricePrediction/blob/main/07_CleanUp.ipynb\" target=\"_parent\"><img src=\"https://colab.research.google.com/assets/colab-badge.svg\" alt=\"Open In Colab\"/></a>"
      ]
    },
    {
      "cell_type": "markdown",
      "metadata": {
        "id": "YYU1sXZw1CEW"
      },
      "source": [
        "#pipeline.py"
      ]
    },
    {
      "cell_type": "code",
      "metadata": {
        "id": "XMUxSqJ7-f0a"
      },
      "source": [
        "from sklearn.pipeline import Pipeline\n",
        "from sklearn.preprocessing import MinMaxScaler\n",
        "from sklearn.linear_model import Lasso\n",
        "\n",
        "from config import config\n",
        "import processing.preprocessors as pp\n",
        "\n",
        "price_pipe = Pipeline(\n",
        "    [\n",
        "        ('Numerical Imputer',pp.NumericalImputer(variables = config.NUMERICAL_FEATURES)),\n",
        "        ('Categorical Imputer', pp.CategoricalImputer(variables = config.CATEGORICAL_FEATURES)),\n",
        "        ('Temporal Features', pp.TemporalVariableEstimator(variables = config.TEMPORAL_FEATURES, \n",
        "        reference_variable=config.TEMPORAL_COMPARISON)),\n",
        "        ('Rare Label Encoder', pp.RareLabelCategoricalImputer(variables = config.FEATURES_TO_ENCODE)),\n",
        "        ('Categorical Encoder', pp.CategoricalEncoder(variables=config.FEATURES_TO_ENCODE)),\n",
        "        ('Log Transform', pp.LogTransformation(variables = config.LOG_FEATURES)),\n",
        "        ('Drop Features', pp.DropFeatures(variables_to_drop=config.DROP_FEATURES)),\n",
        "        ('Scaler Transform', MinMaxScaler()),\n",
        "        ('Linear Model', Lasso(alpha=0.005,random_state=42))\n",
        "      ]\n",
        ")"
      ],
      "execution_count": null,
      "outputs": []
    },
    {
      "cell_type": "markdown",
      "metadata": {
        "id": "iKraqMVP-lGn"
      },
      "source": [
        "#train_pipeline.py"
      ]
    },
    {
      "cell_type": "code",
      "metadata": {
        "id": "swU_ckGG-pn9"
      },
      "source": [
        "import pandas as pd\n",
        "import numpy as np\n",
        "\n",
        "\n",
        "from config import config\n",
        "from processing.data_management import load_dataset, save_pipeline\n",
        "import processing.preprocessors as pp\n",
        "import pipeline\n",
        "from predict import make_prediction\n",
        "\n",
        "\n",
        "def run_training():\n",
        "  train = load_dataset(config.TRAIN_FILE)\n",
        "  y = np.log(train[config.TARGET])\n",
        "  train.drop([config.TARGET], axis=1, inplace=True)\n",
        "  pipeline.price_pipe.fit(train[config.KEEP], y)\n",
        "  save_pipeline(pipeline_to_save=pipeline.price_pipe)\n",
        "\n",
        "if __name__ == \"__main__\":\n",
        "  run_training()"
      ],
      "execution_count": null,
      "outputs": []
    },
    {
      "cell_type": "markdown",
      "metadata": {
        "id": "a2A8TS6eA4Mj"
      },
      "source": [
        "# predict.py"
      ]
    },
    {
      "cell_type": "code",
      "metadata": {
        "id": "t28QcG9gBJzF"
      },
      "source": [
        "import numpy as np\n",
        "import pandas as pd\n",
        "\n",
        "from config import config\n",
        "from processing.data_management import load_pipeline\n",
        "\n",
        "pipeline_file_name = \"lasso_regression_v1.pkl\"\n",
        "\n",
        "_price_pipe = load_pipeline(pipeline_file_name)\n",
        "\n",
        "def make_prediction(input_data):\n",
        "  data == pd.Dataframe(input_data)\n",
        "  prediction = _price_pipe.predict(data[config.KEEP])\n",
        "  output = np.exp(prediction)\n",
        "\n",
        "  results = {\n",
        "      \"prediction\": output,\n",
        "      \"model_name\": pipeline_file_name,\n",
        "      \"version\": \"version1\"\n",
        "  }\n",
        "return results"
      ],
      "execution_count": null,
      "outputs": []
    },
    {
      "cell_type": "markdown",
      "metadata": {
        "id": "1saTQUB3C2zQ"
      },
      "source": [
        "# Config.py"
      ]
    },
    {
      "cell_type": "code",
      "metadata": {
        "id": "3ZjoFklHDOcH"
      },
      "source": [
        "import pathlib\n",
        "import os\n",
        "\n",
        "\n",
        "DATAPATH = \"../data/HousingPrediction/\"\n",
        "SAVED_MODEL_PATH = \"../HousingPriceAllEvoution/07_CleanUp/trained_models/\"\n",
        "## These datapaths need to be changed in the final package\n",
        "\n",
        "TRAIN_FILE = 'train.csv'\n",
        "TEST_FILE = 'test.csv'\n",
        "\n",
        "TARGET = 'SalePrice'\n",
        "## Features to keep\n",
        "KEEP = ['MSSubClass', 'MSZoning', 'Neighborhood',\n",
        "            'OverallQual', 'OverallCond', 'YearRemodAdd',\n",
        "            'RoofStyle', 'MasVnrType', 'BsmtQual', 'BsmtExposure',\n",
        "            'HeatingQC', 'CentralAir', '1stFlrSF', 'GrLivArea',\n",
        "            'BsmtFullBath', 'KitchenQual', 'Fireplaces', 'FireplaceQu',\n",
        "            'GarageType', 'GarageFinish', 'GarageCars', 'PavedDrive',\n",
        "            'LotFrontage','YrSold'] #Final feature to keep in data\n",
        "\n",
        "NUMERICAL_FEATURES = ['LotFrontage'] #Numerical\n",
        "CATEGORICAL_FEATURES = ['MasVnrType', 'BsmtQual', 'BsmtExposure','FireplaceQu', \n",
        "                'GarageCars','GarageType', 'GarageFinish','MSZoning','BsmtFullBath',\n",
        "                'KitchenQual'] #Categorical\n",
        "\n",
        "FEATURES_TO_ENCODE = ['MSZoning', 'Neighborhood', 'RoofStyle', 'MasVnrType','BsmtQual', \n",
        "                      'BsmtExposure', 'HeatingQC', 'CentralAir','KitchenQual', 'FireplaceQu', \n",
        "                      'GarageType', 'GarageFinish','PavedDrive'] #Features to Encode\n",
        "\n",
        "TEMPORAL_FEATURES = ['YearRemodAdd']\n",
        "TEMPORAL_COMPARISON = 'YrSold'\n",
        "\n",
        "LOG_FEATURES = ['LotFrontage', '1stFlrSF', 'GrLivArea'] #Features for Log Transform\n",
        "\n",
        "DROP_FEATURES = ['YrSold'] #Features to Drop"
      ],
      "execution_count": null,
      "outputs": []
    },
    {
      "cell_type": "markdown",
      "metadata": {
        "id": "i1dGzipwDPZX"
      },
      "source": [
        "# data_management.py"
      ]
    },
    {
      "cell_type": "code",
      "metadata": {
        "id": "wSjlEz-_Wfnh"
      },
      "source": [
        "from config import config\n",
        "import pandas as pd\n",
        "import joblib\n",
        "\n",
        "def load_dataset(file_name):\n",
        "  _data = pd.read_csv(config.DATAPATH + filename)\n",
        "  return _data\n",
        "\n",
        "def save_pipeline(pipeline_to_save):\n",
        "  save_file_name = \"lasso\"\n",
        "  save_path = config.SAVED_MODEL_PATH + save_file_name\n",
        "  joblib.dump(pipeline_to_save, save_path)\n",
        "  print(\"Saved Pipeline: \", save_file_name)\n",
        "\n",
        "def load_ppipeline(pipeine_to_load):\n",
        "  save_path = config.SAVED_MODEL_PATH\n",
        "  trained_model = joblib.load(save_path+pipeline_to_load)\n",
        "  return trained_model"
      ],
      "execution_count": null,
      "outputs": []
    }
  ]
}