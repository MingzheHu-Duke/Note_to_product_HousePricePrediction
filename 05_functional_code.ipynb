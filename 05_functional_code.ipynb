{
  "nbformat": 4,
  "nbformat_minor": 0,
  "metadata": {
    "colab": {
      "name": "05_functional_code.ipynb",
      "provenance": [],
      "authorship_tag": "ABX9TyPwqVV/x09KQcjP/WP0eTVl",
      "include_colab_link": true
    },
    "kernelspec": {
      "name": "python3",
      "display_name": "Python 3"
    },
    "language_info": {
      "name": "python"
    }
  },
  "cells": [
    {
      "cell_type": "markdown",
      "metadata": {
        "id": "view-in-github",
        "colab_type": "text"
      },
      "source": [
        "<a href=\"https://colab.research.google.com/github/MingzheHu-Duke/Note_to_product_HousePricePrediction/blob/main/05_functional_code.ipynb\" target=\"_parent\"><img src=\"https://colab.research.google.com/assets/colab-badge.svg\" alt=\"Open In Colab\"/></a>"
      ]
    },
    {
      "cell_type": "markdown",
      "metadata": {
        "id": "FnYV8P0_pCqZ"
      },
      "source": [
        "# config.py"
      ]
    },
    {
      "cell_type": "code",
      "metadata": {
        "id": "tTPNX_PPpHaV"
      },
      "source": [
        "# -*- coding: utf-8 -*-\n",
        "\"\"\"\n",
        "Created on Fri Jul 17 12:47:19 2020\n",
        "@author: ashutosh.k\n",
        "\"\"\"\n",
        "\n",
        "\n",
        "DATAPATH = \"../data/HousingPrediction/\"\n",
        "TRAIN_FILE = 'train.csv'\n",
        "TEST_FILE = 'test.csv'\n",
        "\n",
        "TARGET = 'SalePrice'\n",
        "## Features to keep\n",
        "KEEP = ['MSSubClass', 'MSZoning', 'Neighborhood',\n",
        "            'OverallQual', 'OverallCond', 'YearRemodAdd',\n",
        "            'RoofStyle', 'MasVnrType', 'BsmtQual', 'BsmtExposure',\n",
        "            'HeatingQC', 'CentralAir', '1stFlrSF', 'GrLivArea',\n",
        "            'BsmtFullBath', 'KitchenQual', 'Fireplaces', 'FireplaceQu',\n",
        "            'GarageType', 'GarageFinish', 'GarageCars', 'PavedDrive',\n",
        "            'LotFrontage','YrSold'] #Final feature to keep in data\n",
        "\n",
        "NUMERICAL_FEATURES = ['LotFrontage'] #Numerical\n",
        "CATEGORICAL_FEATURES = ['MasVnrType', 'BsmtQual', 'BsmtExposure','FireplaceQu', \n",
        "                'GarageCars','GarageType', 'GarageFinish','MSZoning','BsmtFullBath',\n",
        "                'KitchenQual'] #Categorical\n",
        "\n",
        "FEATURES_TO_ENCODE = ['MSZoning', 'Neighborhood', 'RoofStyle', 'MasVnrType','BsmtQual', \n",
        "                      'BsmtExposure', 'HeatingQC', 'CentralAir','KitchenQual', 'FireplaceQu', \n",
        "                      'GarageType', 'GarageFinish','PavedDrive'] #Features to Encode\n",
        "\n",
        "TEMPORAL_FEATURES = ['YearRemodAdd']\n",
        "TEMPORAL_COMPARISON = 'YrSold'\n",
        "\n",
        "LOG_FEATURES = ['LotFrontage', '1stFlrSF', 'GrLivArea'] #Features for Log Transform\n",
        "\n",
        "DROP_FEATURES = ['YrSold'] #Features to Drop"
      ],
      "execution_count": null,
      "outputs": []
    },
    {
      "cell_type": "markdown",
      "metadata": {
        "id": "Pomd7OscniY3"
      },
      "source": [
        "# preprocessor.py"
      ]
    },
    {
      "cell_type": "code",
      "metadata": {
        "colab": {
          "base_uri": "https://localhost:8080/",
          "height": 128
        },
        "id": "D8_FTvE_ofp9",
        "outputId": "06d68618-9db8-4683-ba45-114c75edc5b9"
      },
      "source": [
        "\"\"\"\n",
        "Created on Fri Jul 17 13:04:51 2020\n",
        "\n",
        "@author: ashutosh.k\n",
        "\"\"\"\n",
        "import pandas as pd\n",
        "import numpy as np\n",
        "\n",
        "import config\n",
        "\n",
        "\n",
        "# Numerical Imputer\n",
        "def numerical_imputer(_data, NUMERICAL_FEATURES):\n",
        "  for var in CATEGORICAL_FEATURES:\n",
        "    _data[var].fillna(_data[var].mode()[0], inplace=True)\n",
        "  return data\n",
        "\n",
        "# Rare label Categorical Encoder\n",
        "def rare_label_cat_imputer(_data, FEATURES_TO_ENCODE):\n",
        "  encoder_dict_ = {}\n",
        "  tol = 0.05\n",
        "\n",
        "  for var in FEATURES_TO_ENCODE:\n",
        "    # The encoder will learn the most frequent categories\n",
        "    t = pd.Series(_data[var].value_counts() / np.float(len(_data)))\n",
        "    # Frequent labels:\n",
        "    encoder_dict_[var] = list(t[t >= tol].index)\n",
        "  \n",
        "  for var in FEATURES_TO_ENCODE:\n",
        "    _data[var] = np.where(_data[var].isin(encoder_dict_[var], \"Rare\"))\n",
        "\n",
        "  return _data\n",
        "\n",
        "# Categorical Encoder\n",
        "def categorical_encoder(_data, FEATURES_TO_ENCODE):\n",
        "  encoder_dict_ = {}\n",
        "  for var in FEATURES_TO_ENCODE:\n",
        "    t = _data[var].value_counts().sort_values(ascending=True).index\n",
        "    encoder_dict_[var] = {k:i for i, k in enumerate(t, 0)}\n",
        "\n",
        "  # Mapping using the encoder dictionary\n",
        "  for var in FEATURES_TO_ENCODE:\n",
        "    _data[var] = _data[var].map(encoder_dict_[var])\n",
        "\n",
        "  return _data\n",
        "\n",
        "\n",
        "# Temporal Variables\n",
        "def temporal_transform(_data, TEMPORAL_FEATURES, TEMPORAL_COMPARISON):\n",
        "  for var in TEMPORAL_FEATURES:\n",
        "    _data[var] = _data[var] - _data[TEMPORAL_COMPARISON]\n",
        "\n",
        "  return _data\n",
        "\n",
        "\n",
        "# Log transformation\n",
        "def log_transformation(_data, LOG_FEATURES):\n",
        "  for var in LOG_FEATURES:\n",
        "    _data[var] = np.log(_data[var])\n",
        "  return _data\n",
        "\n",
        "\n",
        "def drop_features(_data, DROP_FEATURES):\n",
        "  _data.drop(DROP_FEATURES, inplace=True)\n",
        "  return _data"
      ],
      "execution_count": 1,
      "outputs": [
        {
          "output_type": "error",
          "ename": "SyntaxError",
          "evalue": "ignored",
          "traceback": [
            "\u001b[0;36m  File \u001b[0;32m\"<ipython-input-1-d1d5532e29e1>\"\u001b[0;36m, line \u001b[0;32m42\u001b[0m\n\u001b[0;31m    for var in FEATURES_TO_ENCODE:\u001b[0m\n\u001b[0m                                  ^\u001b[0m\n\u001b[0;31mSyntaxError\u001b[0m\u001b[0;31m:\u001b[0m unexpected EOF while parsing\n"
          ]
        }
      ]
    },
    {
      "cell_type": "markdown",
      "metadata": {
        "id": "nDz8BeBJyTYy"
      },
      "source": [
        "# data_management.py"
      ]
    },
    {
      "cell_type": "code",
      "metadata": {
        "id": "rUgfwGpew2xo"
      },
      "source": [
        "\"\"\"\n",
        "Created on Fri Jul 17 12:59:47 2020\n",
        "@author: ashutosh.k\n",
        "Data Management: Read Data and Save Data\n",
        "\"\"\"\n",
        "\n",
        "import config\n",
        "import numpy as np\n",
        "\n",
        "def load_data(file_name):\n",
        "  _data = pd.read_csv(config.DATAPATH + filed_name)\n",
        "  return _data"
      ],
      "execution_count": null,
      "outputs": []
    },
    {
      "cell_type": "markdown",
      "metadata": {
        "id": "n6qSfhPyzCxs"
      },
      "source": [
        "# MainCode.py"
      ]
    },
    {
      "cell_type": "code",
      "metadata": {
        "id": "vSNJ2vpjLfjZ"
      },
      "source": [
        "# -*- coding: utf-8 -*-\n",
        "\"\"\"\n",
        "Created on Fri Jul 17 12:57:42 2020\n",
        "@author: ashutosh.k\n",
        "\"\"\"\n",
        "\n",
        "import pandas as pd\n",
        "import numpy as np\n",
        "from sklearn.model_selection import train_test_split\n",
        "from sklearn.preprocessing import MinMaxScaler\n",
        "from sklearn.linear_model import Lasso\n",
        "from sklearn import metrics\n",
        "\n",
        "\n",
        "# Import other files/modules\n",
        "import config\n",
        "from data_management import load_dataset\n",
        "import preprocessing as pp\n",
        "\n",
        "train = load_dataset(config.TRAIN_FILE)\n",
        "test = load_dataset(config.TEST_FILE)\n",
        "\n",
        "\n",
        "#Seperate SalePrice in Y\n",
        "y = train[config.TARGET]\n",
        "train.drop([config.TARGET], axis=1, inplace=True)\n",
        "\n",
        "#Combine train and test data\n",
        "dataw = pd.concat([train, test], axis=0)\n",
        "\n",
        "data = data[config.KEEP].copy\n",
        "\n",
        "\n",
        "#Data Preprocessing functions from preprocessors.py\n",
        "data = pp.numerical_imputer(data, config.NUMERICAL_FEATURES)\n",
        "data = pp.categorical_imputer(data, config.CATEGORICAL_FEATURES)\n",
        "data = pp.rare_label_cat_imputer(data, config.FEATURES_TO_ENCODE)\n",
        "data = pp.categorical_encoder(data, config.FEATURES_TO_ENCODE)\n",
        "data = pp.temporal_transform(data, config.TEMPORAL_FEATURES, \n",
        "                             config.TEMPORAL_COMPARISON)\n",
        "data = pp.log_transform(data, config.LOG_FEATURES)\n",
        "data = pp.drop_features(data, config.DROP_FEATURES)\n",
        "\n",
        "##############################################################################\n",
        "\n",
        "\n",
        "## Split Train and Test\n",
        "\n",
        "train_clean = data.iloc[:train.shape[0],:]\n",
        "test_clean = data.iloc[train.shape[0]:,:]\n",
        "\n",
        "#Split Train and Test\n",
        "X_train, X_test, y_train, y_test = train_test_split(train_clean, y, \n",
        "                                                    random_state=42, test_size=0.15)\n",
        "y_train = np.log(y_train)\n",
        "y_test = np.log(y_test)\n",
        "\n",
        "# Run Model\n",
        "model = Lasso(alpha=0.005, random_state=0)\n",
        "model.fit(X_train,y_train)\n",
        "pred = model.predict(X_test)\n",
        "\n",
        "# Model Evaluation\n",
        "#MSE\n",
        "print(\"MSE : \",metrics.mean_squared_error(pred, y_test))\n",
        "#MAE\n",
        "print(\"MAE : \",metrics.mean_absolute_error(pred, y_test))\n",
        "#RMSE\n",
        "print(\"RMSE : \",np.sqrt(metrics.mean_squared_error(pred, y_test)))\n",
        "#R2\n",
        "print(\"R-sq : \",metrics.r2_score(pred, y_test))\n",
        "\n",
        "\n",
        "# Prediction on actual Test Data\n",
        "#test_clean is the transformed original test data; x_test is the 15% split from training data, \n",
        "#apologies for similar names\n",
        "pred_test = np.exp(model.predict(test_clean))\n",
        "\n",
        "print(\"Top 10 predictions: \",pred_test[1:10])"
      ],
      "execution_count": null,
      "outputs": []
    }
  ]
}