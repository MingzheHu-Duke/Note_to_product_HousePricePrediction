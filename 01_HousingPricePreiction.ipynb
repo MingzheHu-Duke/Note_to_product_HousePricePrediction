{
  "nbformat": 4,
  "nbformat_minor": 0,
  "metadata": {
    "colab": {
      "name": "01_HousingPricePreiction.ipynb",
      "provenance": [],
      "authorship_tag": "ABX9TyPDpa4OVLOduDV06UAyB3hs",
      "include_colab_link": true
    },
    "kernelspec": {
      "name": "python3",
      "display_name": "Python 3"
    },
    "language_info": {
      "name": "python"
    }
  },
  "cells": [
    {
      "cell_type": "markdown",
      "metadata": {
        "id": "view-in-github",
        "colab_type": "text"
      },
      "source": [
        "<a href=\"https://colab.research.google.com/github/MingzheHu-Duke/Note_to_product_HousePricePrediction/blob/main/01_HousingPricePreiction.ipynb\" target=\"_parent\"><img src=\"https://colab.research.google.com/assets/colab-badge.svg\" alt=\"Open In Colab\"/></a>"
      ]
    },
    {
      "cell_type": "markdown",
      "metadata": {
        "id": "dN9FKCuaKltz"
      },
      "source": [
        "#Housing price prediction"
      ]
    },
    {
      "cell_type": "code",
      "metadata": {
        "id": "qDUS5nCPLh-m"
      },
      "source": [
        "data_folder = \"data/HousingPrediction/\""
      ],
      "execution_count": null,
      "outputs": []
    },
    {
      "cell_type": "code",
      "metadata": {
        "id": "csBJeN-FLrvq"
      },
      "source": [
        "#Import Libraries\n",
        "import pandas as pd\n",
        "import numpy as np\n",
        "from sklearn.model_selection import train_test_split\n",
        "from sklearn.preprocessing import MinMaxScaler\n",
        "from sklearn.linear_model import Lasso\n",
        "from sklearn import metrics"
      ],
      "execution_count": null,
      "outputs": []
    },
    {
      "cell_type": "markdown",
      "metadata": {
        "id": "GsCUXEKqMrvQ"
      },
      "source": [
        "**Read Data**"
      ]
    },
    {
      "cell_type": "code",
      "metadata": {
        "id": "kxzFAMhzMvW-"
      },
      "source": [
        "train = pd.read_csv(data_folder + \"train.csv\")\n",
        "test = pd.read_csv(data_folder + \"test.csv\")"
      ],
      "execution_count": null,
      "outputs": []
    },
    {
      "cell_type": "markdown",
      "metadata": {
        "id": "0YnPW4lRXPXJ"
      },
      "source": [
        "**SalePrice is the target column**"
      ]
    },
    {
      "cell_type": "code",
      "metadata": {
        "id": "X6aXk-QLXaL2"
      },
      "source": [
        "# Separating Saleprice in Y\n",
        "y = train[\"SalePrice\"]\n",
        "train.drop([\"SalePrice\"], axis=1, inplace=True)"
      ],
      "execution_count": null,
      "outputs": []
    },
    {
      "cell_type": "code",
      "metadata": {
        "id": "mZKlyM0GXxbf"
      },
      "source": [
        "# Combine the train and test data\n",
        "data = pd.concat([train, test], axis=0)"
      ],
      "execution_count": null,
      "outputs": []
    },
    {
      "cell_type": "code",
      "metadata": {
        "id": "DbeaVfvwYCew"
      },
      "source": [
        "# Features to keep\n",
        "keep = ['MSSubClass', 'MSZoning', 'Neighborhood',\n",
        "            'OverallQual', 'OverallCond', 'YearRemodAdd',\n",
        "            'RoofStyle', 'MasVnrType', 'BsmtQual', 'BsmtExposure',\n",
        "            'HeatingQC', 'CentralAir', '1stFlrSF', 'GrLivArea',\n",
        "            'BsmtFullBath', 'KitchenQual', 'Fireplaces', 'FireplaceQu',\n",
        "            'GarageType', 'GarageFinish', 'GarageCars', 'PavedDrive',\n",
        "            'LotFrontage','YrSold']"
      ],
      "execution_count": null,
      "outputs": []
    },
    {
      "cell_type": "code",
      "metadata": {
        "id": "Hr0hFqpMYI7z"
      },
      "source": [
        "data = data[keep].copy()"
      ],
      "execution_count": null,
      "outputs": []
    },
    {
      "cell_type": "markdown",
      "metadata": {
        "id": "iqaZNPGnbLPv"
      },
      "source": [
        "**Numerical Imputer**"
      ]
    },
    {
      "cell_type": "code",
      "metadata": {
        "id": "yI9JLHhSbWv7"
      },
      "source": [
        "#Missing values for the column [\"LotFrontage\"]\n",
        "num_features = [\"LotFrontage\"]\n",
        "\n",
        "for var in num_features:\n",
        "  data[var].fillna(data[var].mode()[0], inplace=True)"
      ],
      "execution_count": null,
      "outputs": []
    },
    {
      "cell_type": "markdown",
      "metadata": {
        "id": "AaqLYDTmc-i8"
      },
      "source": [
        "**Categorical Imputer**"
      ]
    },
    {
      "cell_type": "code",
      "metadata": {
        "id": "47JWlAkXdGhA"
      },
      "source": [
        "cat_features = ['MasVnrType', 'BsmtQual', 'BsmtExposure','FireplaceQu', \n",
        "                'GarageCars','GarageType', 'GarageFinish','MSZoning','BsmtFullBath',\n",
        "                'KitchenQual']"
      ],
      "execution_count": null,
      "outputs": []
    },
    {
      "cell_type": "code",
      "metadata": {
        "colab": {
          "base_uri": "https://localhost:8080/"
        },
        "id": "6NfAf1RLdR4X",
        "outputId": "976a849f-4bdf-4a1b-cce7-9346d61a566c"
      },
      "source": [
        "# Check missing values\n",
        "data[cat_features].isnull().sum()"
      ],
      "execution_count": null,
      "outputs": [
        {
          "output_type": "execute_result",
          "data": {
            "text/plain": [
              "MasVnrType        24\n",
              "BsmtQual          81\n",
              "BsmtExposure      82\n",
              "FireplaceQu     1420\n",
              "GarageCars         1\n",
              "GarageType       157\n",
              "GarageFinish     159\n",
              "MSZoning           4\n",
              "BsmtFullBath       2\n",
              "KitchenQual        1\n",
              "dtype: int64"
            ]
          },
          "metadata": {},
          "execution_count": 37
        }
      ]
    },
    {
      "cell_type": "code",
      "metadata": {
        "id": "oYLME9HUdgYt"
      },
      "source": [
        "for var in cat_features:\n",
        "  data[var].fillna(data[var].mode()[0], inplace=True)"
      ],
      "execution_count": null,
      "outputs": []
    },
    {
      "cell_type": "code",
      "metadata": {
        "colab": {
          "base_uri": "https://localhost:8080/"
        },
        "id": "oFNZ3D1qdwDD",
        "outputId": "7dfe1809-f027-4492-e049-176f930e50f8"
      },
      "source": [
        "data[cat_features].isnull().sum()"
      ],
      "execution_count": null,
      "outputs": [
        {
          "output_type": "execute_result",
          "data": {
            "text/plain": [
              "MasVnrType      0\n",
              "BsmtQual        0\n",
              "BsmtExposure    0\n",
              "FireplaceQu     0\n",
              "GarageCars      0\n",
              "GarageType      0\n",
              "GarageFinish    0\n",
              "MSZoning        0\n",
              "BsmtFullBath    0\n",
              "KitchenQual     0\n",
              "dtype: int64"
            ]
          },
          "metadata": {},
          "execution_count": 39
        }
      ]
    },
    {
      "cell_type": "code",
      "metadata": {
        "id": "qxYl2lYJeAOs"
      },
      "source": [
        "#Encoding for rare values : Abover a certain threshold percentage\n",
        "features_to_encode = ['MSZoning', 'Neighborhood', 'RoofStyle', 'MasVnrType','BsmtQual', \n",
        "                      'BsmtExposure', 'HeatingQC', 'CentralAir','KitchenQual', 'FireplaceQu', \n",
        "                      'GarageType', 'GarageFinish','PavedDrive']"
      ],
      "execution_count": null,
      "outputs": []
    },
    {
      "cell_type": "code",
      "metadata": {
        "id": "cSoKKvSRibbb"
      },
      "source": [
        "encoder_dict_ = {}\n",
        "tol = 0.05\n",
        "\n",
        "for var in features_to_encode:\n",
        "  # The encoder will learn the most common category\n",
        "  t = pd.Series(data[var].value_counts()/np.float(len(data)))\n",
        "  # Frequent Labels\n",
        "  encoder_dict_[var] = list(t[t >= tol].index)\n",
        "\n",
        "for var in features_to_encode:\n",
        "  data[var] = np.where(data[var].isin(encoder_dict[var]), data[var], \"Rare\")"
      ],
      "execution_count": null,
      "outputs": []
    },
    {
      "cell_type": "markdown",
      "metadata": {
        "id": "I-q6hjb_cPUp"
      },
      "source": [
        "**Categorical Encoder**"
      ]
    },
    {
      "cell_type": "code",
      "metadata": {
        "id": "AkDK-HhuX4ZA"
      },
      "source": [
        "features_to_encode = ['MSZoning', 'Neighborhood', 'RoofStyle', 'MasVnrType','BsmtQual', \n",
        "                      'BsmtExposure', 'HeatingQC', 'CentralAir','KitchenQual', 'FireplaceQu', \n",
        "                      'GarageType', 'GarageFinish','PavedDrive']"
      ],
      "execution_count": null,
      "outputs": []
    },
    {
      "cell_type": "code",
      "metadata": {
        "colab": {
          "base_uri": "https://localhost:8080/"
        },
        "id": "y2XuQ-9IYCKw",
        "outputId": "71eefb70-649f-4f41-fc15-5be697c9bc99"
      },
      "source": [
        "data[\"MSZoning\"].value_counts()"
      ],
      "execution_count": null,
      "outputs": [
        {
          "output_type": "execute_result",
          "data": {
            "text/plain": [
              "RL      2269\n",
              "RM       460\n",
              "Rare     190\n",
              "Name: MSZoning, dtype: int64"
            ]
          },
          "metadata": {},
          "execution_count": 74
        }
      ]
    },
    {
      "cell_type": "code",
      "metadata": {
        "id": "U7b3HyC7YKTm"
      },
      "source": [
        "encoder_dict_ = {}\n",
        "for var in features_to_encode:\n",
        "  t = data[var].value_counts().sort_values(ascending=True).index\n",
        "  encoder_dict_[var] = {k:i for i,k in enumerate(t,0)}"
      ],
      "execution_count": null,
      "outputs": []
    },
    {
      "cell_type": "code",
      "metadata": {
        "colab": {
          "base_uri": "https://localhost:8080/"
        },
        "id": "jcKkvcEPQjZC",
        "outputId": "81f95ece-b8ce-4e91-ea80-b82192a3a8a8"
      },
      "source": [
        "encoder_dict_"
      ],
      "execution_count": null,
      "outputs": [
        {
          "output_type": "execute_result",
          "data": {
            "text/plain": [
              "{'BsmtExposure': {'Av': 2, 'Gd': 1, 'Mn': 0, 'No': 3},\n",
              " 'BsmtQual': {'Ex': 1, 'Gd': 2, 'Rare': 0, 'TA': 3},\n",
              " 'CentralAir': {'N': 0, 'Y': 1},\n",
              " 'FireplaceQu': {'Gd': 2, 'Rare': 0, 'TA': 1},\n",
              " 'GarageFinish': {'Fin': 0, 'RFn': 1, 'Unf': 2},\n",
              " 'GarageType': {'Attchd': 3, 'BuiltIn': 1, 'Detchd': 2, 'Rare': 0},\n",
              " 'HeatingQC': {'Ex': 3, 'Gd': 1, 'Rare': 0, 'TA': 2},\n",
              " 'KitchenQual': {'Ex': 1, 'Gd': 2, 'Rare': 0, 'TA': 3},\n",
              " 'MSZoning': {'RL': 2, 'RM': 1, 'Rare': 0},\n",
              " 'MasVnrType': {'BrkFace': 2, 'None': 3, 'Rare': 0, 'Stone': 1},\n",
              " 'Neighborhood': {'CollgCr': 6,\n",
              "  'Edwards': 4,\n",
              "  'Gilbert': 1,\n",
              "  'NAmes': 7,\n",
              "  'NridgHt': 2,\n",
              "  'OldTown': 5,\n",
              "  'Rare': 8,\n",
              "  'Sawyer': 0,\n",
              "  'Somerst': 3},\n",
              " 'PavedDrive': {'N': 1, 'Rare': 0, 'Y': 2},\n",
              " 'RoofStyle': {'Gable': 2, 'Hip': 1, 'Rare': 0}}"
            ]
          },
          "metadata": {},
          "execution_count": 90
        }
      ]
    },
    {
      "cell_type": "code",
      "metadata": {
        "id": "uoeCzvOMWXe7"
      },
      "source": [
        "# Mapping using the encoder dictionary\n",
        "for var in features_to_encode:\n",
        "  data[var] = data[var].map(encoder_dict_[var])"
      ],
      "execution_count": null,
      "outputs": []
    },
    {
      "cell_type": "code",
      "metadata": {
        "colab": {
          "base_uri": "https://localhost:8080/"
        },
        "id": "eYzYel_xZgfN",
        "outputId": "f3cb4361-c431-4273-ddd1-a4b0b964dcad"
      },
      "source": [
        "data.columns"
      ],
      "execution_count": null,
      "outputs": [
        {
          "output_type": "execute_result",
          "data": {
            "text/plain": [
              "Index(['MSSubClass', 'MSZoning', 'Neighborhood', 'OverallQual', 'OverallCond',\n",
              "       'YearRemodAdd', 'RoofStyle', 'MasVnrType', 'BsmtQual', 'BsmtExposure',\n",
              "       'HeatingQC', 'CentralAir', '1stFlrSF', 'GrLivArea', 'BsmtFullBath',\n",
              "       'KitchenQual', 'Fireplaces', 'FireplaceQu', 'GarageType',\n",
              "       'GarageFinish', 'GarageCars', 'PavedDrive', 'LotFrontage', 'YrSold'],\n",
              "      dtype='object')"
            ]
          },
          "metadata": {},
          "execution_count": 94
        }
      ]
    },
    {
      "cell_type": "markdown",
      "metadata": {
        "id": "k_iN0wUuaKkI"
      },
      "source": [
        "**Temporal Variables**"
      ]
    },
    {
      "cell_type": "code",
      "metadata": {
        "id": "kw-kVwtLbMr9"
      },
      "source": [
        "temporal_features = ['YearRemodAdd']\n",
        "comparison = 'YrSold'\n",
        "\n",
        "data['YearRemodAdd'] = data['YearRemodAdd']-data['YrSold']"
      ],
      "execution_count": null,
      "outputs": []
    },
    {
      "cell_type": "markdown",
      "metadata": {
        "id": "-f0JWG2Rbk0e"
      },
      "source": [
        "**Drop Features**"
      ]
    },
    {
      "cell_type": "code",
      "metadata": {
        "id": "djTX6QcRboei"
      },
      "source": [
        "drop_features = [\"YrSold\"]\n",
        "data.drop(drop_features, axis=1, inplace=True)"
      ],
      "execution_count": null,
      "outputs": []
    },
    {
      "cell_type": "markdown",
      "metadata": {
        "id": "zB1g4XTRb1i8"
      },
      "source": [
        "**Log Transformations of Numerical Variable**"
      ]
    },
    {
      "cell_type": "code",
      "metadata": {
        "id": "6f187JAPb61r"
      },
      "source": [
        "log_features = [\"LotFrontage\", \"1stFlrSF\", \"GrLivArea\"]\n",
        "for var in log_features:\n",
        "  data[var] = np.log(data[var])"
      ],
      "execution_count": null,
      "outputs": []
    },
    {
      "cell_type": "markdown",
      "metadata": {
        "id": "m5HIFkKucLuZ"
      },
      "source": [
        "**Split back to train and test**"
      ]
    },
    {
      "cell_type": "code",
      "metadata": {
        "colab": {
          "base_uri": "https://localhost:8080/"
        },
        "id": "YpTwKjIecmG_",
        "outputId": "6711a2da-d972-43e2-8f0f-13cf293fb410"
      },
      "source": [
        "train_clean = data.iloc[:train.shape[0], :]\n",
        "train_clean.shape"
      ],
      "execution_count": null,
      "outputs": [
        {
          "output_type": "execute_result",
          "data": {
            "text/plain": [
              "(1460, 23)"
            ]
          },
          "metadata": {},
          "execution_count": 100
        }
      ]
    },
    {
      "cell_type": "code",
      "metadata": {
        "colab": {
          "base_uri": "https://localhost:8080/"
        },
        "id": "S9nH0H_rdDX3",
        "outputId": "af525576-18e7-4c3e-e849-363da511ddb7"
      },
      "source": [
        "test_clean = data.iloc[train.shape[0]:, :]\n",
        "test_clean.shape"
      ],
      "execution_count": null,
      "outputs": [
        {
          "output_type": "execute_result",
          "data": {
            "text/plain": [
              "(1459, 23)"
            ]
          },
          "metadata": {},
          "execution_count": 102
        }
      ]
    },
    {
      "cell_type": "markdown",
      "metadata": {
        "id": "8Wqm26fRdNNf"
      },
      "source": [
        "**Split Train Data**"
      ]
    },
    {
      "cell_type": "code",
      "metadata": {
        "id": "gdg0y2JydRnl"
      },
      "source": [
        "X_train, X_test, y_train, y_test = train_test_split(train_clean, y, random_state=2012, shuffle=True, test_size=0.15)"
      ],
      "execution_count": null,
      "outputs": []
    },
    {
      "cell_type": "code",
      "metadata": {
        "id": "RUX22twpdosw"
      },
      "source": [
        "y_train = np.log(y_train)\n",
        "y_test = np.log(y_test)"
      ],
      "execution_count": null,
      "outputs": []
    },
    {
      "cell_type": "markdown",
      "metadata": {
        "id": "g8OOlYXzd1ph"
      },
      "source": [
        "**Run Model Lasso**"
      ]
    },
    {
      "cell_type": "code",
      "metadata": {
        "id": "rnCN3arjd4uE"
      },
      "source": [
        "model = Lasso(alpha=0.005, random_state=0)"
      ],
      "execution_count": null,
      "outputs": []
    },
    {
      "cell_type": "code",
      "metadata": {
        "colab": {
          "base_uri": "https://localhost:8080/"
        },
        "id": "UCYwjYjyk5jZ",
        "outputId": "f1b103cd-4768-4056-96ff-baeb980b44f7"
      },
      "source": [
        "model.fit(X_train, y_train)"
      ],
      "execution_count": null,
      "outputs": [
        {
          "output_type": "execute_result",
          "data": {
            "text/plain": [
              "Lasso(alpha=0.005, copy_X=True, fit_intercept=True, max_iter=1000,\n",
              "      normalize=False, positive=False, precompute=False, random_state=0,\n",
              "      selection='cyclic', tol=0.0001, warm_start=False)"
            ]
          },
          "metadata": {},
          "execution_count": 112
        }
      ]
    },
    {
      "cell_type": "code",
      "metadata": {
        "id": "i46Wh6YhlvBh"
      },
      "source": [
        "pred = model.predict(X_test)"
      ],
      "execution_count": null,
      "outputs": []
    },
    {
      "cell_type": "markdown",
      "metadata": {
        "id": "xaYZqREJlDSk"
      },
      "source": [
        "**Evaluation**"
      ]
    },
    {
      "cell_type": "code",
      "metadata": {
        "colab": {
          "base_uri": "https://localhost:8080/"
        },
        "id": "qdS3vp35l8Ly",
        "outputId": "bad05fcb-0fce-426d-defa-9b7f83699c07"
      },
      "source": [
        "#MSE\n",
        "print(\"MSE : \",metrics.mean_squared_error(pred, y_test))\n",
        "#MAE\n",
        "print(\"MAE : \",metrics.mean_absolute_error(pred, y_test))\n",
        "#RMSE\n",
        "print(\"RMSE : \",np.sqrt(metrics.mean_squared_error(pred, y_test)))\n",
        "#R2\n",
        "print(\"R-sq : \",metrics.r2_score(pred, y_test))"
      ],
      "execution_count": null,
      "outputs": [
        {
          "output_type": "stream",
          "name": "stdout",
          "text": [
            "MSE :  0.024092368764334775\n",
            "MAE :  0.11439919885435745\n",
            "RMSE :  0.15521716646149283\n",
            "R-sq :  0.7933542052441106\n"
          ]
        }
      ]
    },
    {
      "cell_type": "markdown",
      "metadata": {
        "id": "C5t_5-VNl_XE"
      },
      "source": [
        "**Prediction on the actual Test Data**"
      ]
    },
    {
      "cell_type": "code",
      "metadata": {
        "id": "TsjS92yGoTPa"
      },
      "source": [
        "#test_clean is the transformed original test data; x_test is the 15% split from training data, \n",
        "#apologies for similar names\n",
        "pred_test = np.exp(model.predict(test_clean))"
      ],
      "execution_count": null,
      "outputs": []
    }
  ]
}